{
  "nbformat": 4,
  "nbformat_minor": 0,
  "metadata": {
    "colab": {
      "name": "Regression.ipynb",
      "provenance": [],
      "collapsed_sections": [],
      "mount_file_id": "1tjgLXxRvMcvvc17A64Zlniiqx_HCuKHg",
      "authorship_tag": "ABX9TyNnLZF4Jhe02Oh9BD3ksQF6",
      "include_colab_link": true
    },
    "kernelspec": {
      "name": "python3",
      "display_name": "Python 3"
    }
  },
  "cells": [
    {
      "cell_type": "markdown",
      "metadata": {
        "id": "view-in-github",
        "colab_type": "text"
      },
      "source": [
        "<a href=\"https://colab.research.google.com/github/Vishal0Nagarajan/Flight-Delay-Prediction/blob/master/Regression.ipynb\" target=\"_parent\"><img src=\"https://colab.research.google.com/assets/colab-badge.svg\" alt=\"Open In Colab\"/></a>"
      ]
    },
    {
      "cell_type": "code",
      "metadata": {
        "id": "CPm5XPgfcuG-",
        "colab_type": "code",
        "colab": {
          "base_uri": "https://localhost:8080/",
          "height": 105
        },
        "outputId": "e12e22d5-28dd-4d24-f767-383a2f36c5a3"
      },
      "source": [
        "# Importing the libraries and packages\n",
        "\n",
        "import pandas as pd\n",
        "import csv\n",
        "import numpy as np\n",
        "import xgboost as xgb\n",
        "import statistics\n",
        "import warnings\n",
        "import matplotlib.pyplot as plt\n",
        "import seaborn as sns\n",
        "from sklearn.model_selection import train_test_split\n",
        "from sklearn.preprocessing import StandardScaler, scale, LabelEncoder\n",
        "from sklearn.metrics import classification_report, confusion_matrix\n",
        "from sklearn.linear_model import LinearRegression\n",
        "from sklearn.ensemble import ExtraTreesRegressor\n",
        "from sklearn.metrics import r2_score, mean_squared_error, mean_absolute_error\n",
        "from imblearn.over_sampling import RandomOverSampler\n",
        "from sklearn.tree import DecisionTreeRegressor"
      ],
      "execution_count": null,
      "outputs": [
        {
          "output_type": "stream",
          "text": [
            "/usr/local/lib/python3.6/dist-packages/sklearn/externals/six.py:31: FutureWarning: The module is deprecated in version 0.21 and will be removed in version 0.23 since we've dropped support for Python 2.7. Please rely on the official version of six (https://pypi.org/project/six/).\n",
            "  \"(https://pypi.org/project/six/).\", FutureWarning)\n",
            "/usr/local/lib/python3.6/dist-packages/sklearn/utils/deprecation.py:144: FutureWarning: The sklearn.neighbors.base module is  deprecated in version 0.22 and will be removed in version 0.24. The corresponding classes / functions should instead be imported from sklearn.neighbors. Anything that cannot be imported from sklearn.neighbors is now part of the private API.\n",
            "  warnings.warn(message, FutureWarning)\n"
          ],
          "name": "stderr"
        }
      ]
    },
    {
      "cell_type": "code",
      "metadata": {
        "id": "H8GruImXdJFD",
        "colab_type": "code",
        "colab": {}
      },
      "source": [
        "# Fetching the dataset (ignoring Future Warnings)\n",
        "\n",
        "warnings.simplefilter(action = 'ignore', category = FutureWarning)\n",
        "df = pd.read_csv('drive/My Drive/DataPreprocessing.csv', index_col = 0)"
      ],
      "execution_count": null,
      "outputs": []
    },
    {
      "cell_type": "code",
      "metadata": {
        "id": "mRkZG3ih-0Ee",
        "colab_type": "code",
        "colab": {}
      },
      "source": [
        "# Train Test split\n",
        "\n",
        "x = df.loc[:, ['DepDel15', 'ArrDel15', 'DepDelayMinutes', 'windspeedKmph_y', 'DewPointF_y', 'cloudcover_y', 'precipMM_y', 'pressure_y', 'WindGustKmph_y', 'visibility_y', 'tempF_y', 'WindChillF_y', 'winddirDegree_y', 'humidity_y', 'airport_y']]\n",
        "y = df.loc[:, ['ArrDelayMinutes']]\n",
        "labelencoder_X = LabelEncoder()\n",
        "x['airport_y'] = labelencoder_X.fit_transform(x['airport_y'])\n",
        "x_train, x_test, y_train, y_test = train_test_split(x, y, test_size = 0.25, random_state = 0)\n",
        "x1_test = x_test.copy(deep = True)\n",
        "y1_test = y_test.copy(deep = True)\n",
        "\n",
        "data = pd.concat([x_test, y_test], axis = 1)\n",
        "data = data[data.ArrDel15>0]\n",
        "x_test = data.iloc[:, :-1]\n",
        "y_test = data.iloc[:, -1]\n",
        "data = pd.concat([x_train, y_train], axis = 1)\n",
        "data = data[data.ArrDel15>0]\n",
        "x_train = data.iloc[:, :-1]\n",
        "y_train = data.iloc[:, -1]"
      ],
      "execution_count": null,
      "outputs": []
    },
    {
      "cell_type": "code",
      "metadata": {
        "id": "b_rHx6IX53_d",
        "colab_type": "code",
        "colab": {}
      },
      "source": [
        "# Feature Scaling using Standard Scaler\n",
        "\n",
        "sc = StandardScaler()\n",
        "x_train = sc.fit_transform(x_train)\n",
        "x_test = sc.transform(x_test)"
      ],
      "execution_count": null,
      "outputs": []
    },
    {
      "cell_type": "code",
      "metadata": {
        "id": "H2cEHmBtygiI",
        "colab_type": "code",
        "colab": {
          "base_uri": "https://localhost:8080/",
          "height": 68
        },
        "outputId": "a348deb3-cd1e-4127-f38d-f83148a45b9d"
      },
      "source": [
        "# Linear Regression\n",
        "\n",
        "reg = LinearRegression()\n",
        "reg.fit(x_train, y_train)\n",
        "y_predLiR = reg.predict(x_test)\n",
        "print(r2_score(y_test, y_predLiR),'\\n',mean_absolute_error(y_test, y_predLiR),'\\n', mean_squared_error(y_test, y_predLiR)**0.5)"
      ],
      "execution_count": null,
      "outputs": [
        {
          "output_type": "stream",
          "text": [
            "0.938145998781709 \n",
            " 12.373360006192511 \n",
            " 17.935895284493135\n"
          ],
          "name": "stdout"
        }
      ]
    },
    {
      "cell_type": "code",
      "metadata": {
        "id": "NScilkS5xYmY",
        "colab_type": "code",
        "colab": {
          "base_uri": "https://localhost:8080/",
          "height": 68
        },
        "outputId": "7a9cfc7e-d118-4a11-d9c0-2d6cae2e7963"
      },
      "source": [
        "# Decision Tree Regression\n",
        "\n",
        "reg = DecisionTreeRegressor(random_state = 0, max_depth = 6)\n",
        "reg.fit(x_train, y_train)\n",
        "y_predDTR = reg.predict(x_test)\n",
        "print(r2_score(y_test, y_predDTR),'\\n',mean_absolute_error(y_test, y_predDTR),'\\n', mean_squared_error(y_test, y_predDTR)**0.5)"
      ],
      "execution_count": null,
      "outputs": [
        {
          "output_type": "stream",
          "text": [
            "0.9403759605807209 \n",
            " 12.120262347084447 \n",
            " 17.60961487974498\n"
          ],
          "name": "stdout"
        }
      ]
    },
    {
      "cell_type": "code",
      "metadata": {
        "id": "xhN3VvB2Fzcv",
        "colab_type": "code",
        "colab": {
          "base_uri": "https://localhost:8080/",
          "height": 408
        },
        "outputId": "193c837c-cb67-459f-fc45-17ce84092225"
      },
      "source": [
        "print('REGRESSION ANALYSIS : \\n')\n",
        "dataset1 = pd.concat([x_test, y_test], axis = 1)\n",
        "reg = LinearRegression()\n",
        "reg.fit(x_train, y_train)\n",
        "l = [0, 100, 200, 1000, 2000]\n",
        "for i in range(len(l)):\n",
        "  if l[i]!=2000:\n",
        "    test_x = dataset1.loc[(dataset1.ArrDelayMinutes>=l[i]) & (dataset1.ArrDelayMinutes<l[i+1])].iloc[:, :-1]\n",
        "    test_y = dataset1.loc[(dataset1.ArrDelayMinutes>=l[i]) & (dataset1.ArrDelayMinutes<l[i+1])].iloc[:, -1]\n",
        "    y_predLiR = reg.predict(test_x)\n",
        "    print('INTERVAL ',l[i], ' - ', l[i+1])\n",
        "    print(' MSE  : ',mean_squared_error(test_y, y_predLiR),'\\n','MAE  : ',mean_absolute_error(test_y, y_predLiR),'\\n','RMSE : ', mean_squared_error(test_y, y_predLiR)**0.5)\n",
        "  print()"
      ],
      "execution_count": null,
      "outputs": [
        {
          "output_type": "stream",
          "text": [
            "REGRESSION ANALYSIS : \n",
            "\n",
            "INTERVAL  0  -  100\n",
            " MSE  :  218.59728443863025 \n",
            " MAE  :  11.067768673177957 \n",
            " RMSE :  14.785035828114529\n",
            "\n",
            "INTERVAL  100  -  200\n",
            " MSE  :  757.2067176490563 \n",
            " MAE  :  18.325139105531917 \n",
            " RMSE :  27.517389368344087\n",
            "\n",
            "INTERVAL  200  -  1000\n",
            " MSE  :  1048.3452587786699 \n",
            " MAE  :  20.186226988277554 \n",
            " RMSE :  32.378160212999596\n",
            "\n",
            "INTERVAL  1000  -  2000\n",
            " MSE  :  1023.6160349827297 \n",
            " MAE  :  26.947451889901153 \n",
            " RMSE :  31.99399998410217\n",
            "\n",
            "\n"
          ],
          "name": "stdout"
        }
      ]
    },
    {
      "cell_type": "code",
      "metadata": {
        "id": "CQ0kdSlVXTU7",
        "colab_type": "code",
        "colab": {
          "base_uri": "https://localhost:8080/",
          "height": 34
        },
        "outputId": "445d29e4-bf68-4f00-9fa9-cbbcd2ef3e20"
      },
      "source": [
        "#dataset1[(dataset1.ArrDelayMinutes>=200)]\n",
        "len(dataset1[(dataset1.ArrDelayMinutes>=0) & (dataset1.ArrDelayMinutes<=100)])"
      ],
      "execution_count": null,
      "outputs": [
        {
          "output_type": "execute_result",
          "data": {
            "text/plain": [
              "80989"
            ]
          },
          "metadata": {
            "tags": []
          },
          "execution_count": 17
        }
      ]
    },
    {
      "cell_type": "code",
      "metadata": {
        "id": "vRr9IrG_VeXM",
        "colab_type": "code",
        "colab": {
          "base_uri": "https://localhost:8080/",
          "height": 295
        },
        "outputId": "62a54026-fa78-471d-8bbf-05fe8b2a6cf5"
      },
      "source": [
        "dataset1 = pd.concat([x1_test, y1_test], axis = 1)\n",
        "temp = pd.DataFrame()\n",
        "temp['ArrDel15'] = dataset1[dataset1.ArrDel15>0].ArrDel15\n",
        "temp['ArrDelayMinutes'] = dataset1[dataset1.ArrDel15>0].ArrDelayMinutes\n",
        "#y_train.rename('ArrDelayMinutes')\n",
        "#dataset = pd.concat([x_train, y_train], axis = 1)\n",
        "axes = sns.boxplot(x = 'ArrDel15', y = 'ArrDelayMinutes', data = temp, color = 'cyan')\n",
        "axes.set(ylim=(0, 200))\n",
        "plt.title('Boxplot of the distribution of delay of flights(in mins) of the validation set')\n",
        "plt.savefig('drive/My Drive/boxplot.eps', format = 'eps', bbox_inches = 'tight')"
      ],
      "execution_count": null,
      "outputs": [
        {
          "output_type": "display_data",
          "data": {
            "image/png": "[encoded data removed]",
            "text/plain": [
              "<Figure size 432x288 with 1 Axes>"
            ]
          },
          "metadata": {
            "tags": []
          }
        }
      ]
    },
    {
      "cell_type": "code",
      "metadata": {
        "id": "LSKKIXNc4HQR",
        "colab_type": "code",
        "colab": {
          "base_uri": "https://localhost:8080/",
          "height": 68
        },
        "outputId": "db023f42-06e5-40fd-baca-6993869c2379"
      },
      "source": [
        "# Extra Trees Regressor\n",
        "\n",
        "reg = ExtraTreesRegressor(max_depth = 5)\n",
        "reg.fit(x_train, y_train.values.ravel())\n",
        "y_predETR = reg.predict(x_test)\n",
        "print(r2_score(y_test, y_predETR),'\\n',mean_absolute_error(y_test, y_predETR),'\\n', mean_squared_error(y_test, y_predETR)**0.5)"
      ],
      "execution_count": null,
      "outputs": [
        {
          "output_type": "stream",
          "text": [
            "0.9022463908700485 \n",
            " 16.630704053895066 \n",
            " 22.54787200443966\n"
          ],
          "name": "stdout"
        }
      ]
    },
    {
      "cell_type": "code",
      "metadata": {
        "id": "8CULBPllGpka",
        "colab_type": "code",
        "colab": {
          "base_uri": "https://localhost:8080/",
          "height": 85
        },
        "outputId": "18346bda-2402-4468-8f5e-98ecc31d14ff"
      },
      "source": [
        "# XGBoost Regressor\n",
        "\n",
        "reg = xgb.XGBRegressor()\n",
        "reg.fit(x_train, y_train)\n",
        "y_predXGR = reg.predict(x_test)\n",
        "print(r2_score(y_test, y_predXGR),'\\n',mean_absolute_error(y_test, y_predXGR),'\\n', mean_squared_error(y_test, y_predXGR)**0.5)"
      ],
      "execution_count": null,
      "outputs": [
        {
          "output_type": "stream",
          "text": [
            "[17:51:25] WARNING: /workspace/src/objective/regression_obj.cu:152: reg:linear is now deprecated in favor of reg:squarederror.\n",
            "0.9418177570811275 \n",
            " 11.952818092307934 \n",
            " 17.395398815413866\n"
          ],
          "name": "stdout"
        }
      ]
    },
    {
      "cell_type": "code",
      "metadata": {
        "id": "w0Izk_EEePeH",
        "colab_type": "code",
        "colab": {}
      },
      "source": [
        "# Read the train and test set files\n",
        "\n",
        "x_train = pd.read_csv('drive/My Drive/x_train.csv', index_col = 0).reset_index()\n",
        "x_test = pd.read_csv('drive/My Drive/x_test.csv', index_col = 0).reset_index()\n",
        "y_train = pd.read_csv('drive/My Drive/y_train.csv', index_col = 0).reset_index()\n",
        "y_test = pd.read_csv('drive/My Drive/y_test.csv', index_col = 0).reset_index()"
      ],
      "execution_count": null,
      "outputs": []
    },
    {
      "cell_type": "code",
      "metadata": {
        "id": "tpAkWy6BnJZw",
        "colab_type": "code",
        "colab": {}
      },
      "source": [
        "# Retrieve the new train and test sets\n",
        "tempX_train = pd.concat([x_train, y_train], axis = 1)\n",
        "tempX_train = tempX_train[tempX_train.ArrDel15>0]\n",
        "tempX_train = tempX_train.loc[:,~tempX_train.columns.duplicated()]\n",
        "tempX_test = pd.merge(tempX_train, df, how = 'left', left_on = 'index', right_on = df.index)\n",
        "tempX_test = tempX_test.iloc[:, 31]\n",
        "tempX_train = tempX_train.iloc[:, 1:]\n",
        "tempY_train = pd.concat([x_test, y_test], axis = 1)\n",
        "tempY_train = tempY_train[tempY_train.ArrDel15>0]\n",
        "tempY_train = tempY_train.loc[:,~tempY_train.columns.duplicated()]\n",
        "tempY_test = pd.merge(tempY_train, df, how = 'left', left_on = 'index', right_on = df.index)\n",
        "tempY_test = tempY_test.iloc[:, 31]\n",
        "tempY_train = tempY_train.iloc[:, 1:]\n",
        "x_train = tempX_train\n",
        "y_train = tempX_test\n",
        "x_test = tempY_train\n",
        "y_test = tempY_test\n",
        "x_train = x_train.drop(columns = ['DepDel15', 'ArrDel15', 'visibility_y', 'cloudcover_y'])\n",
        "x_test = x_test.drop(columns = ['DepDel15', 'ArrDel15', 'visibility_y', 'cloudcover_y'])"
      ],
      "execution_count": null,
      "outputs": []
    }
  ]
}