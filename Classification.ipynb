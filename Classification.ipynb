{
  "nbformat": 4,
  "nbformat_minor": 0,
  "metadata": {
    "colab": {
      "name": "Classification.ipynb",
      "provenance": [],
      "collapsed_sections": [],
      "mount_file_id": "1hmbeX-np6bRDVP7uu28VSeaTNuzdXUi5",
      "authorship_tag": "ABX9TyONRr08LF6OVmQgvfGQFgNo",
      "include_colab_link": true
    },
    "kernelspec": {
      "name": "python3",
      "display_name": "Python 3"
    }
  },
  "cells": [
    {
      "cell_type": "markdown",
      "metadata": {
        "id": "view-in-github",
        "colab_type": "text"
      },
      "source": [
        "<a href=\"https://colab.research.google.com/github/Vishal0Nagarajan/Flight-Delay-Prediction/blob/master/Classification.ipynb\" target=\"_parent\"><img src=\"https://colab.research.google.com/assets/colab-badge.svg\" alt=\"Open In Colab\"/></a>"
      ]
    },
    {
      "cell_type": "code",
      "metadata": {
        "id": "PmL931vQKPaf",
        "colab_type": "code",
        "colab": {
          "base_uri": "https://localhost:8080/",
          "height": 105
        },
        "outputId": "3814b29f-c918-4075-d6ac-5e2b3bf604ca"
      },
      "source": [
        "# Import libraries\n",
        "\n",
        "import pandas as pd\n",
        "import csv\n",
        "import numpy as np\n",
        "import xgboost as xgb\n",
        "import statistics\n",
        "import warnings\n",
        "import seaborn as sns\n",
        "import matplotlib.pyplot as plt\n",
        "from sklearn.model_selection import train_test_split\n",
        "from sklearn.linear_model import LogisticRegression\n",
        "from sklearn.tree import DecisionTreeClassifier\n",
        "from sklearn.ensemble import ExtraTreesClassifier\n",
        "from sklearn.preprocessing import StandardScaler, scale, LabelEncoder\n",
        "from sklearn.metrics import classification_report, confusion_matrix\n",
        "from imblearn.under_sampling import TomekLinks, NearMiss\n",
        "from imblearn.over_sampling import SMOTE"
      ],
      "execution_count": null,
      "outputs": [
        {
          "output_type": "stream",
          "text": [
            "/usr/local/lib/python3.6/dist-packages/sklearn/externals/six.py:31: FutureWarning: The module is deprecated in version 0.21 and will be removed in version 0.23 since we've dropped support for Python 2.7. Please rely on the official version of six (https://pypi.org/project/six/).\n",
            "  \"(https://pypi.org/project/six/).\", FutureWarning)\n",
            "/usr/local/lib/python3.6/dist-packages/sklearn/utils/deprecation.py:144: FutureWarning: The sklearn.neighbors.base module is  deprecated in version 0.22 and will be removed in version 0.24. The corresponding classes / functions should instead be imported from sklearn.neighbors. Anything that cannot be imported from sklearn.neighbors is now part of the private API.\n",
            "  warnings.warn(message, FutureWarning)\n"
          ],
          "name": "stderr"
        }
      ]
    },
    {
      "cell_type": "code",
      "metadata": {
        "id": "wgn_r1NELGz2",
        "colab_type": "code",
        "colab": {}
      },
      "source": [
        "# Fetching the dataset (ignoring Future Warnings)\n",
        "\n",
        "warnings.simplefilter(action = 'ignore', category = FutureWarning)\n",
        "df = pd.read_csv('drive/My Drive/DataPreprocessing.csv', index_col = 0)"
      ],
      "execution_count": null,
      "outputs": []
    },
    {
      "cell_type": "code",
      "metadata": {
        "id": "cIhQd99L89a6",
        "colab_type": "code",
        "colab": {
          "base_uri": "https://localhost:8080/",
          "height": 295
        },
        "outputId": "8b83451a-4c9a-47cf-d205-d91265b15b7d"
      },
      "source": [
        "fig = plt.figure()\n",
        "axes = sns.boxplot(x = 'DayofMonth', y = 'ArrDelayMinutes', data = df)\n",
        "#sns.boxplot(x = 'ArrDel15', y = 'ArrDelayMinutes', data = dataset1)\n",
        "axes.set(ylim=(0, 50))\n",
        "plt.title('Illustration')\n",
        "fig.savefig('drive/My Drive/plot.eps', bbox_inches = 'tight')"
      ],
      "execution_count": null,
      "outputs": [
        {
          "output_type": "display_data",
          "data": {
            "image/png": "[encoded data removed]",
            "text/plain": [
              "<Figure size 432x288 with 1 Axes>"
            ]
          },
          "metadata": {
            "tags": []
          }
        }
      ]
    },
    {
      "cell_type": "code",
      "metadata": {
        "id": "fsSQeAVkiKaF",
        "colab_type": "code",
        "colab": {}
      },
      "source": [
        "# x, y -> ArrDel15\n",
        "\n",
        "x = df.loc[:, ['DepDel15', 'windspeedKmph_y', 'DewPointF_y', 'cloudcover_y', 'precipMM_y', 'pressure_y', 'WindGustKmph_y', 'visibility_y', 'tempF_y', 'WindChillF_y', 'winddirDegree_y', 'humidity_y', 'airport_y']]\n",
        "y = df.loc[:, ['ArrDel15']]\n",
        "labelencoder_X = LabelEncoder()\n",
        "x['airport_y'] = labelencoder_X.fit_transform(x['airport_y'])"
      ],
      "execution_count": null,
      "outputs": []
    },
    {
      "cell_type": "code",
      "metadata": {
        "id": "1t6HtW-W_h3-",
        "colab_type": "code",
        "colab": {}
      },
      "source": [
        "# Training and Test set splitting\n",
        "\n",
        "x_train, x_test, y_train, y_test = train_test_split(x, y, test_size = 0.25, random_state = 0)"
      ],
      "execution_count": null,
      "outputs": []
    },
    {
      "cell_type": "code",
      "metadata": {
        "id": "GyG-IUohftpE",
        "colab_type": "code",
        "colab": {}
      },
      "source": [
        "# Saving train and test sets as csv files for future use\n",
        "\n",
        "pd.DataFrame(x_train).to_csv('drive/My Drive/x_train.csv')\n",
        "pd.DataFrame(x_test).to_csv('drive/My Drive/x_test.csv')\n",
        "pd.DataFrame(y_train).to_csv('drive/My Drive/y_train.csv')\n",
        "pd.DataFrame(y_test).to_csv('drive/My Drive/y_test.csv')"
      ],
      "execution_count": null,
      "outputs": []
    },
    {
      "cell_type": "code",
      "metadata": {
        "id": "L-fHUMtHKeTg",
        "colab_type": "code",
        "colab": {}
      },
      "source": [
        "# OVERSAMPLING USING SMOTE\n",
        "\n",
        "obj = SMOTE(random_state = 0, ratio = 'minority')\n",
        "x_train, y_train = obj.fit_sample(x_train, y_train.values.ravel())"
      ],
      "execution_count": null,
      "outputs": []
    },
    {
      "cell_type": "code",
      "metadata": {
        "id": "U306o6U-xzyy",
        "colab_type": "code",
        "colab": {
          "base_uri": "https://localhost:8080/",
          "height": 187
        },
        "outputId": "216f7975-f086-4972-b1d7-a339e816e0ac"
      },
      "source": [
        "#Decision Tree Classifier\n",
        "\n",
        "print(\"Arrival Delay : \")\n",
        "classifier = DecisionTreeClassifier(random_state = 0, criterion = 'entropy')\n",
        "classifier.fit(x_train, y_train)\n",
        "y_predDTC = classifier.predict(x_test)\n",
        "print(classification_report(y_test,y_predDTC))"
      ],
      "execution_count": null,
      "outputs": [
        {
          "output_type": "stream",
          "text": [
            "Arrival Delay : \n",
            "              precision    recall  f1-score   support\n",
            "\n",
            "         0.0       0.94      0.93      0.93    365740\n",
            "         1.0       0.74      0.77      0.76     97119\n",
            "\n",
            "    accuracy                           0.90    462859\n",
            "   macro avg       0.84      0.85      0.85    462859\n",
            "weighted avg       0.90      0.90      0.90    462859\n",
            "\n"
          ],
          "name": "stdout"
        }
      ]
    },
    {
      "cell_type": "code",
      "metadata": {
        "id": "RGBQ2P3j4_me",
        "colab_type": "code",
        "colab": {
          "base_uri": "https://localhost:8080/",
          "height": 187
        },
        "outputId": "0829e3a7-61c3-4a53-a103-073bf5e0ff3a"
      },
      "source": [
        "#Extra Trees Classifier\n",
        "\n",
        "print('Arrival Delay : ')\n",
        "classifier = ExtraTreesClassifier(random_state = 0)\n",
        "classifier.fit(x_train, y_train)\n",
        "y_predETC = classifier.predict(x_test)\n",
        "print(classification_report(y_test, y_predETC))"
      ],
      "execution_count": null,
      "outputs": [
        {
          "output_type": "stream",
          "text": [
            "Arrival Delay : \n",
            "              precision    recall  f1-score   support\n",
            "\n",
            "         0.0       0.93      0.95      0.94    365740\n",
            "         1.0       0.79      0.74      0.76     97119\n",
            "\n",
            "    accuracy                           0.90    462859\n",
            "   macro avg       0.86      0.84      0.85    462859\n",
            "weighted avg       0.90      0.90      0.90    462859\n",
            "\n"
          ],
          "name": "stdout"
        }
      ]
    },
    {
      "cell_type": "code",
      "metadata": {
        "id": "jW0PzZ9eCAey",
        "colab_type": "code",
        "colab": {
          "base_uri": "https://localhost:8080/",
          "height": 187
        },
        "outputId": "dca5a06c-c394-49f0-e510-4a3539ca670c"
      },
      "source": [
        "#Logistic Regression\n",
        "\n",
        "print('Arrival Delay : ')\n",
        "classifier = LogisticRegression(random_state = 0, max_iter = 200, solver = 'saga', penalty = 'elasticnet', l1_ratio = 0.5)\n",
        "classifier.fit(x_train, y_train)\n",
        "y_predLR = classifier.predict(x_test)\n",
        "print(classification_report(y_test, y_predLR))"
      ],
      "execution_count": null,
      "outputs": [
        {
          "output_type": "stream",
          "text": [
            "Arrival Delay : \n",
            "              precision    recall  f1-score   support\n",
            "\n",
            "         0.0       0.94      0.95      0.94    365740\n",
            "         1.0       0.79      0.76      0.77     97119\n",
            "\n",
            "    accuracy                           0.91    462859\n",
            "   macro avg       0.86      0.85      0.86    462859\n",
            "weighted avg       0.90      0.91      0.90    462859\n",
            "\n"
          ],
          "name": "stdout"
        }
      ]
    },
    {
      "cell_type": "code",
      "metadata": {
        "id": "WKl-gWiW24Jm",
        "colab_type": "code",
        "colab": {
          "base_uri": "https://localhost:8080/",
          "height": 187
        },
        "outputId": "3911c4f8-01e4-48af-879c-2896eb4c2fc0"
      },
      "source": [
        "#XGBoost Classifier\n",
        "\n",
        "print('Arrival Delay : ')\n",
        "xg = xgb.XGBClassifier(max_depth = 10, learning_rate = 0.05, random_state = 0)\n",
        "xg.fit(x_train, y_train)\n",
        "y_predXG = xg.predict(x_test)\n",
        "print(classification_report(y_test, y_predXG))"
      ],
      "execution_count": null,
      "outputs": [
        {
          "output_type": "stream",
          "text": [
            "Arrival Delay : \n",
            "              precision    recall  f1-score   support\n",
            "\n",
            "         0.0       0.94      0.95      0.94    438928\n",
            "         1.0       0.79      0.75      0.77    116502\n",
            "\n",
            "    accuracy                           0.91    555430\n",
            "   macro avg       0.86      0.85      0.85    555430\n",
            "weighted avg       0.90      0.91      0.90    555430\n",
            "\n"
          ],
          "name": "stdout"
        }
      ]
    },
    {
      "cell_type": "code",
      "metadata": {
        "id": "B3OVDg1AA6d5",
        "colab_type": "code",
        "colab": {}
      },
      "source": [
        "# Feature Scaling using Standard Scaler\n",
        "\n",
        "sc = StandardScaler()\n",
        "x_train = sc.fit_transform(x_train)\n",
        "x_test = sc.transform(x_test)"
      ],
      "execution_count": null,
      "outputs": []
    }
  ]
}